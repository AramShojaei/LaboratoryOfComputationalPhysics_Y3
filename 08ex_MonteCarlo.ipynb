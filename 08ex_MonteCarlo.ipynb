{
 "cells": [
  {
   "cell_type": "markdown",
   "metadata": {},
   "source": [
    "1\\. **Radioactive decay chain**\n",
    "\n",
    "${\\rm Tl}^{208}$ decays to ${\\rm Pb}^{208}$ with a half-lieve of 3.052 minutes. Suppose to start with a sample of 1000 Thallium atoms and 0 of Lead atoms.\n",
    "\n",
    "* Take steps in time of 1 second and at each time-step decide whether each Tl atom has decayed or not, accordingly to the probability $p(t)=1-2^{-t/\\tau}$. Subtract the total number of Tl atoms that decayed at each step from the Tl sample and add them to the Lead one. Plot the evolution of the two sets as a function of time  \n",
    "* Repeat the exercise by means of the inverse transform method: draw 1000 random numbers from the non-uniform probability distribution $p(t)=2^{-t/\\tau}\\frac{\\ln 2}{\\tau}$ to represent the times of decay of the 1000 Tl atoms. Make a plot showing the number of atoms that have not decayed as a function of time"
   ]
  },
  {
   "cell_type": "code",
   "execution_count": 2,
   "metadata": {},
   "outputs": [],
   "source": [
    "import numpy as np\n",
    "import pandas as pd\n",
    "from scipy import stats\n",
    "\n",
    "import matplotlib.pyplot as plt\n",
    "import seaborn as sns"
   ]
  },
  {
   "cell_type": "code",
   "execution_count": 4,
   "metadata": {},
   "outputs": [
    {
     "data": {
      "text/plain": [
       "<matplotlib.legend.Legend at 0x2021ae75190>"
      ]
     },
     "execution_count": 4,
     "metadata": {},
     "output_type": "execute_result"
    },
    {
     "data": {
      "image/png": "[encoded data removed]",
      "text/plain": [
       "<Figure size 432x288 with 1 Axes>"
      ]
     },
     "metadata": {
      "needs_background": "light"
     },
     "output_type": "display_data"
    }
   ],
   "source": [
    "tau=3.052\n",
    "t=np.linspace(0,60)\n",
    "Tl = 1000*(2**((-1)*(t)/tau))\n",
    "Pb = 1000-Tl\n",
    "plt.plot(t,Tl,label=\"Thallium\")\n",
    "plt.plot(t,Pb,label=\"Lead\")\n",
    "plt.legend(loc=\"best\")"
   ]
  },
  {
   "cell_type": "code",
   "execution_count": 8,
   "metadata": {},
   "outputs": [
    {
     "name": "stderr",
     "output_type": "stream",
     "text": [
      "<ipython-input-8-4ad404d760e7>:8: RuntimeWarning: divide by zero encountered in log2\n",
      "  return -tau*(np.log2(1 - z))\n"
     ]
    },
    {
     "data": {
      "text/plain": [
       "[<matplotlib.lines.Line2D at 0x2021b044b50>]"
      ]
     },
     "execution_count": 8,
     "metadata": {},
     "output_type": "execute_result"
    },
    {
     "data": {
      "image/png": "[encoded data removed]",
      "text/plain": [
       "<Figure size 432x288 with 1 Axes>"
      ]
     },
     "metadata": {
      "needs_background": "light"
     },
     "output_type": "display_data"
    }
   ],
   "source": [
    "def pdf(t):\n",
    "    return (2**(-t/tau))*(math.log(2)/tau)\n",
    "\n",
    "def cdf(t):\n",
    "    return 1 - 2**(-t/tau)\n",
    "\n",
    "def icdf(z):\n",
    "    return -tau*(np.log2(1 - z))\n",
    "\n",
    "z=np.linspace(0,1,1000)\n",
    "\n",
    "plt.plot(z, icdf(z))\n"
   ]
  },
  {
   "cell_type": "markdown",
   "metadata": {},
   "source": [
    "2\\. **Rutherford Scattering**\n",
    "\n",
    "The scattering angle $\\theta$ of $\\alpha$ particles hitting a positively charged nucleus of a Gold atom ($Z=79$) follows the rule:\n",
    "\n",
    "$$\n",
    "\\tan{\\frac{1}{2} \\theta} = \\frac{Z e^2} {2\\pi \\epsilon_0 E b}\n",
    "$$\n",
    "\n",
    "where $E=7.7$ MeV and $b$ beam is the impact parameter. The beam is represented by a 2D gaussian distribution with $\\sigma=a_0/100$ for both coordinates ($a_0$ being the Bohr radius). Assume 1 million $\\alpha$ particles are shot on the gold atom.\n",
    "\n",
    "Computing the fraction of particles that \"bounce back\",i.e. those particle whose scattering angle is greater than $\\pi/2$ (which set a condition on the impact parameter $b$)"
   ]
  },
  {
   "cell_type": "code",
   "execution_count": 41,
   "metadata": {},
   "outputs": [
    {
     "name": "stdout",
     "output_type": "stream",
     "text": [
      "The fraction of particles that bounce back is 0.15039999999999998\n"
     ]
    }
   ],
   "source": [
    "Z=79\n",
    "e=1.6 * np.power(1/10,19)\n",
    "E=7.7 * np.power(10,6) *e\n",
    "e0=8.85 * np.power(1/10,12)\n",
    "a0=5.29 * np.power(1/10,11)\n",
    "sigma=a0/100\n",
    "N=1000000\n",
    "\n",
    "x,y = np.random.multivariate_normal([0,0], [[sigma**2,0],[0,sigma**2]], N).T\n",
    "b=np.sqrt(x**2 +y**2 )\n",
    "theta = 2*np.arctan((Z*e**2)/(2*np.pi*E*e0)/b )\n",
    "\n",
    "count=0\n",
    "for i in range(len(theta)):\n",
    "    if theta[i]>np.pi/2 :\n",
    "        count+=1\n",
    "print(\"The fraction of particles that bounce back is\", count/N*100)        "
   ]
  },
  {
   "cell_type": "markdown",
   "metadata": {},
   "source": [
    "3\\. **Monte Carlo integration: hit/miss vs mean value method**\n",
    "\n",
    "Consider the function \n",
    "\n",
    "$$f(x) =\\sin^2{\\frac{1}{x(2-x)}}$$\n",
    "\n",
    "* Compute the integral of $f(x)$ between 0 and 2 with the hit/miss method. Evaluate the error of your estimate\n",
    "* Repeat the integral with the mean value method. Evaluate the error and compare it with the previous one"
   ]
  },
  {
   "cell_type": "code",
   "execution_count": 46,
   "metadata": {},
   "outputs": [
    {
     "name": "stderr",
     "output_type": "stream",
     "text": [
      "<ipython-input-46-1444746aa7fe>:7: IntegrationWarning: The maximum number of subdivisions (50) has been achieved.\n",
      "  If increasing the limit yields no improvement it is advised to analyze \n",
      "  the integrand in order to determine the difficulties.  If the position of a \n",
      "  local difficulty can be determined (singularity, discontinuity) one will \n",
      "  probably gain from splitting up the interval and calling the integrator \n",
      "  on the subranges.  Perhaps a special-purpose integrator should be used.\n",
      "  I, e = integrate.quad(f, 0, 2)\n"
     ]
    },
    {
     "name": "stdout",
     "output_type": "stream",
     "text": [
      "The integral with the Hit/Mass method is 1.44626\n",
      "The error with the Hit/Mass methd  is 0.0037389245568822567\n",
      "\n",
      "The integral with the Mean Value method is 1.4543709844396058\n",
      "The error with the Mean Value methd  is  0.0018483544114249223\n"
     ]
    }
   ],
   "source": [
    "from scipy import integrate\n",
    "\n",
    "def f(x):\n",
    "    return (np.sin(1/(x*(2-x))))**2\n",
    "\n",
    "N=100000\n",
    "I, e = integrate.quad(f, 0, 2)\n",
    "\n",
    " # Hit/Miss method\n",
    "count=0\n",
    "for i in range(N):\n",
    "    x=2*np.random.random()\n",
    "    y=np.random.random()\n",
    "    if y<f(x):\n",
    "        count+=1\n",
    "I_HM=2*count/N\n",
    "print(\"The integral with the Hit/Mass method is\",I_HM)\n",
    "print(\"The error with the Hit/Mass methd  is\",abs(I-I_HM)/I)\n",
    "print(\"\")\n",
    " #Mean Value method\n",
    "x = np.random.uniform(0, 2, N)\n",
    "fsum= 0\n",
    "for i in range(len(x)):\n",
    "    fsum += f(x[i])\n",
    "I_MV = (2-0)/N *fsum\n",
    "print(\"The integral with the Mean Value method is\",I_MV)\n",
    "print(\"The error with the Mean Value methd  is \",abs(I-I_MV)/I)"
   ]
  },
  {
   "cell_type": "markdown",
   "metadata": {},
   "source": [
    "4\\. **Monte Carlo integration in high dimension**\n",
    "\n",
    "* Start of by computing the area of a circle of unit radius, by integrating the function \n",
    "\n",
    "$$\n",
    "f(x,y)=\n",
    "\\left\\{\n",
    "\\begin{array}{ll}\n",
    "      1 & x^2+y^2\\le 1 \\\\\n",
    "      0 & {\\rm elsewhere}\n",
    "\\end{array} \n",
    "\\right.\n",
    "$$\n",
    "\n",
    "* Generalize the result for a 10D sphere\n",
    "\n"
   ]
  },
  {
   "cell_type": "code",
   "execution_count": 56,
   "metadata": {},
   "outputs": [
    {
     "name": "stdout",
     "output_type": "stream",
     "text": [
      "In integration of the function for 2 dimensions is  3.142324\n",
      "In integration of the function for 10 dimensions is  2.444288\n"
     ]
    }
   ],
   "source": [
    "def f(x,y):\n",
    "    if x**2 + y**2 <= 1:\n",
    "        return 1\n",
    "    else: \n",
    "        return 0\n",
    "N=1000000\n",
    "fsum=0\n",
    "for i in range(N):\n",
    "    x=np.random.random()\n",
    "    y=np.random.random()\n",
    "    if f(x,y)==1:\n",
    "        fsum+=1\n",
    "I=(2**2)/N*fsum\n",
    "print(\"The area of a 2D sphere \",I)\n",
    " \n",
    " #For 10 dimentions\n",
    "def f(x0,x1,x2,x3,x4,x5,x6,x7,x8,x9):\n",
    "    if x0**2+x1**2+x2**2+x3**2+x4**2+x5**2+x6**2+x7**2+x8**2+x9**2 <= 1:\n",
    "        return 1\n",
    "    else: \n",
    "        return 0\n",
    "\n",
    "fsum=0\n",
    "for i in range(N):\n",
    "    x0=np.random.random()\n",
    "    x1=np.random.random()\n",
    "    x2=np.random.random()\n",
    "    x3=np.random.random()\n",
    "    x4=np.random.random()\n",
    "    x5=np.random.random()\n",
    "    x6=np.random.random()\n",
    "    x7=np.random.random()\n",
    "    x8=np.random.random()\n",
    "    x9=np.random.random()\n",
    "    if f(x0,x1,x2,x3,x4,x5,x6,x7,x8,x9)==1:\n",
    "        fsum+=1\n",
    "I=(2**10)/N*fsum\n",
    "print(\"The area of a 10D sphere \",I)\n",
    " "
   ]
  },
  {
   "cell_type": "markdown",
   "metadata": {},
   "source": [
    "5\\. **Monte Carlo integration with importance sampling** \n",
    "\n",
    "Calculate the value of the integral:\n",
    "\n",
    "$$\n",
    "I=\\int_0^1 \\frac{x^{-1/2}}{e^x+1} dx\n",
    "$$\n",
    "\n",
    "using the importance sampling method with $w(x)=1/\\sqrt{x}$. You should get a result about 0.84"
   ]
  },
  {
   "cell_type": "code",
   "execution_count": 62,
   "metadata": {},
   "outputs": [
    {
     "name": "stdout",
     "output_type": "stream",
     "text": [
      "The MC integration with Importance Sampling is 0.7598517264179133\n",
      "The MC integration is 0.8393562702988454\n",
      "The Scipy integration is  0.8389329600133792\n"
     ]
    }
   ],
   "source": [
    "N = 1000000\n",
    "\n",
    "def f(x):\n",
    "    return (x**-0.5)/(np.exp(x)+1)\n",
    "def w(x):\n",
    "    return 1/x**0.5\n",
    " \n",
    "x = np.random.uniform(0,1, N)\n",
    "sum_fw= 0\n",
    "for i in range(N):\n",
    "    sum_fw += f(x[i])/w(x[i])\n",
    "I_w,err_w=integrate.quad(w, 0, 1)\n",
    "I = sum_fw /N * I_w\n",
    "print(\"The MC integration with Importance Sampling is\",I)\n",
    "\n",
    " # integration with out sampling\n",
    "s=0\n",
    "for i in range (N):\n",
    "    s+=f(x[i])\n",
    "II=(1-0)/N*s\n",
    "print(\"The MC integration is\",II)\n",
    "\n",
    " # integration with scipy\n",
    "III, e = integrate.quad(f, 0, 1)\n",
    "print(\"The Scipy integration is \",III)"
   ]
  },
  {
   "cell_type": "code",
   "execution_count": null,
   "metadata": {},
   "outputs": [],
   "source": []
  }
 ],
 "metadata": {
  "kernelspec": {
   "display_name": "Python 3",
   "language": "python",
   "name": "python3"
  },
  "language_info": {
   "codemirror_mode": {
    "name": "ipython",
    "version": 3
   },
   "file_extension": ".py",
   "mimetype": "text/x-python",
   "name": "python",
   "nbconvert_exporter": "python",
   "pygments_lexer": "ipython3",
   "version": "3.8.3"
  }
 },
 "nbformat": 4,
 "nbformat_minor": 2
}
